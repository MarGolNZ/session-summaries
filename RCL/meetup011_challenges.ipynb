{
 "cells": [
  {
   "cell_type": "markdown",
   "metadata": {},
   "source": [
    "### meetup011\n",
    "<br>\n",
    "    **Learning objectives:**\n",
    "\n",
    "       Part 1: Introduction to Python - no prior knowledge required\n",
    "\n",
    "       Part 2: Reading Excel files and analysing the bank account data in them\n",
    "\n",
    "       Python keywords  :  #, for, while, import, from, try, except, if, elif, else, None, and, or\n",
    "\n",
    "       Python data types: str, int, tuple, dict\n",
    "\n",
    "       Python builtins  : print, range, input\n",
    "\n",
    "       Python modules   : time, random, pandas, matplotlib\n",
    "\n",
    "       Python concepts  : variables, conditionals, loops"
   ]
  },
  {
   "cell_type": "markdown",
   "metadata": {},
   "source": [
    "   **Challenges:**\n",
    "    \n",
    "    \"pythonator b1 easy\" course in PyCharm Edu with additional advanced challenges for experienced Python coders\n",
    "    \n",
    "    \n",
    "        1. Use a format string to show the number 2 with a leading zero\n",
    "\n",
    "        2. Put a docstring at the top of the program instead of the comment\n",
    "\n",
    "        3. Include a new line so that 'blast' and 'off' are on separate lines\n",
    "\n",
    "        4. Use format strings to countdown in binary\n",
    "\n",
    "        5. Use format strings to show countdown in ascii art\n",
    "\n",
    "          xxxxx xxxx xxx xx x\n",
    "\n",
    "        6. Same task using \"import time\" rather than \"from time import sleep\"\n",
    "\n",
    "        7. Same task using randrange rather than randint\n",
    "\n",
    "        8A. A non integer guess should not use up one of the guesses\n",
    "\n",
    "        8B. Do task without using template provided\n",
    "    \n",
    "    \n",
    "    The following challenges will develop some tools for you to analyse your bank account data using Python.\n",
    "\n",
    "    They use the example excel workbook bank_accounts.xlsx\n",
    "    \n",
    "    \n",
    "        9: Read first two sheets of excel workbook and calculate the total opening balance of those accounts\n",
    "    \n",
    "        10: Calculate and plot the total balance of 'savings' and 'credit_card' on a chart versus date\n",
    "\n",
    "    \n",
    "    Advanced challenges \n",
    "    \n",
    "        10A: All lines on plot to be vertical or horizontal (no diagonal) to represent balance in accounts\n",
    "\n",
    "        10B: If balance goes up and down on same day just show final balanceChallenge \n",
    "        \n",
    "        11: Read all sheets from excel spreadsheet. \n",
    "            Assume sheets are asset values unless they contain the word liability in which case amounts \n",
    "            and balances have to be negated to convert from liabilities to negative assets."
   ]
  }
 ],
 "metadata": {
  "kernelspec": {
   "display_name": "Python 3",
   "language": "python",
   "name": "python3"
  },
  "language_info": {
   "codemirror_mode": {
    "name": "ipython",
    "version": 3
   },
   "file_extension": ".py",
   "mimetype": "text/x-python",
   "name": "python",
   "nbconvert_exporter": "python",
   "pygments_lexer": "ipython3",
   "version": "3.7.1"
  }
 },
 "nbformat": 4,
 "nbformat_minor": 2
}
