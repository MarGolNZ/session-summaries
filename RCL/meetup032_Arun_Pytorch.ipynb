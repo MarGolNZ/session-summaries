{
 "cells": [
  {
   "cell_type": "code",
   "execution_count": 1,
   "metadata": {
    "colab": {
     "base_uri": "https://localhost:8080/",
     "height": 34
    },
    "colab_type": "code",
    "id": "gXFUlUPCa9pk",
    "outputId": "2cbe94f0-180d-4d88-db61-de2c9bd8512f"
   },
   "outputs": [
    {
     "data": {
      "text/plain": [
       "15"
      ]
     },
     "execution_count": 1,
     "metadata": {
      "tags": []
     },
     "output_type": "execute_result"
    }
   ],
   "source": [
    "5+10"
   ]
  },
  {
   "cell_type": "code",
   "execution_count": 2,
   "metadata": {
    "colab": {
     "base_uri": "https://localhost:8080/",
     "height": 34
    },
    "colab_type": "code",
    "id": "GkTMivulbAaW",
    "outputId": "17f58ac6-ac60-4795-84cb-8b7df11611f3"
   },
   "outputs": [
    {
     "name": "stdout",
     "output_type": "stream",
     "text": [
      "Hello\n"
     ]
    }
   ],
   "source": [
    "print('Hello')"
   ]
  },
  {
   "cell_type": "code",
   "execution_count": 3,
   "metadata": {
    "colab": {
     "base_uri": "https://localhost:8080/",
     "height": 34
    },
    "colab_type": "code",
    "id": "KwQpOKgabC58",
    "outputId": "c4d628d8-79c1-4be9-db3b-8a9e63d97119"
   },
   "outputs": [
    {
     "data": {
      "text/plain": [
       "'1.2.0'"
      ]
     },
     "execution_count": 3,
     "metadata": {
      "tags": []
     },
     "output_type": "execute_result"
    }
   ],
   "source": [
    "import torch\n",
    "torch.__version__"
   ]
  },
  {
   "cell_type": "code",
   "execution_count": 0,
   "metadata": {
    "colab": {},
    "colab_type": "code",
    "id": "Kzw8kyDRbKdd"
   },
   "outputs": [],
   "source": [
    "import numpy as np\n",
    "import matplotlib.pyplot as plt"
   ]
  },
  {
   "cell_type": "code",
   "execution_count": 0,
   "metadata": {
    "colab": {},
    "colab_type": "code",
    "id": "6es8JwAkbUDa"
   },
   "outputs": [],
   "source": [
    "x_data = [1.0, 2.0, 3.0]\n",
    "y_data = [2.0, 4.0, 6.0]"
   ]
  },
  {
   "cell_type": "code",
   "execution_count": 0,
   "metadata": {
    "colab": {},
    "colab_type": "code",
    "id": "VyzfGAJ3bamz"
   },
   "outputs": [],
   "source": [
    "def forward(x):\n",
    "    return x*w"
   ]
  },
  {
   "cell_type": "code",
   "execution_count": 0,
   "metadata": {
    "colab": {},
    "colab_type": "code",
    "id": "V87q1lqkbd6S"
   },
   "outputs": [],
   "source": [
    "def loss(x, y):\n",
    "    y_pred = forward(x)\n",
    "    return (y_pred - y)**2"
   ]
  },
  {
   "cell_type": "code",
   "execution_count": 9,
   "metadata": {
    "colab": {
     "base_uri": "https://localhost:8080/",
     "height": 1000
    },
    "colab_type": "code",
    "id": "-2proHoGboFB",
    "outputId": "04d3012e-a8c3-478d-d80c-69c4fbe172c1"
   },
   "outputs": [
    {
     "name": "stdout",
     "output_type": "stream",
     "text": [
      "w=0.0\n",
      "Loss : 18.666666666666668\n",
      "**********\n",
      "w=0.1\n",
      "Loss : 16.846666666666668\n",
      "**********\n",
      "w=0.2\n",
      "Loss : 15.120000000000003\n",
      "**********\n",
      "w=0.30000000000000004\n",
      "Loss : 13.486666666666665\n",
      "**********\n",
      "w=0.4\n",
      "Loss : 11.946666666666667\n",
      "**********\n",
      "w=0.5\n",
      "Loss : 10.5\n",
      "**********\n",
      "w=0.6000000000000001\n",
      "Loss : 9.146666666666663\n",
      "**********\n",
      "w=0.7000000000000001\n",
      "Loss : 7.886666666666666\n",
      "**********\n",
      "w=0.8\n",
      "Loss : 6.719999999999999\n",
      "**********\n",
      "w=0.9\n",
      "Loss : 5.646666666666666\n",
      "**********\n",
      "w=1.0\n",
      "Loss : 4.666666666666667\n",
      "**********\n",
      "w=1.1\n",
      "Loss : 3.779999999999999\n",
      "**********\n",
      "w=1.2000000000000002\n",
      "Loss : 2.986666666666665\n",
      "**********\n",
      "w=1.3\n",
      "Loss : 2.2866666666666657\n",
      "**********\n",
      "w=1.4000000000000001\n",
      "Loss : 1.6799999999999995\n",
      "**********\n",
      "w=1.5\n",
      "Loss : 1.1666666666666667\n",
      "**********\n",
      "w=1.6\n",
      "Loss : 0.746666666666666\n",
      "**********\n",
      "w=1.7000000000000002\n",
      "Loss : 0.4199999999999995\n",
      "**********\n",
      "w=1.8\n",
      "Loss : 0.1866666666666665\n",
      "**********\n",
      "w=1.9000000000000001\n",
      "Loss : 0.046666666666666586\n",
      "**********\n",
      "w=2.0\n",
      "Loss : 0.0\n",
      "**********\n",
      "w=2.1\n",
      "Loss : 0.046666666666666835\n",
      "**********\n",
      "w=2.2\n",
      "Loss : 0.18666666666666698\n",
      "**********\n",
      "w=2.3000000000000003\n",
      "Loss : 0.42000000000000054\n",
      "**********\n",
      "w=2.4000000000000004\n",
      "Loss : 0.7466666666666679\n",
      "**********\n",
      "w=2.5\n",
      "Loss : 1.1666666666666667\n",
      "**********\n",
      "w=2.6\n",
      "Loss : 1.6800000000000008\n",
      "**********\n",
      "w=2.7\n",
      "Loss : 2.2866666666666693\n",
      "**********\n",
      "w=2.8000000000000003\n",
      "Loss : 2.986666666666668\n",
      "**********\n",
      "w=2.9000000000000004\n",
      "Loss : 3.780000000000003\n",
      "**********\n",
      "w=3.0\n",
      "Loss : 4.666666666666667\n",
      "**********\n",
      "w=3.1\n",
      "Loss : 5.646666666666668\n",
      "**********\n",
      "w=3.2\n",
      "Loss : 6.720000000000003\n",
      "**********\n",
      "w=3.3000000000000003\n",
      "Loss : 7.886666666666668\n",
      "**********\n",
      "w=3.4000000000000004\n",
      "Loss : 9.14666666666667\n",
      "**********\n",
      "w=3.5\n",
      "Loss : 10.5\n",
      "**********\n",
      "w=3.6\n",
      "Loss : 11.94666666666667\n",
      "**********\n",
      "w=3.7\n",
      "Loss : 13.486666666666673\n",
      "**********\n",
      "w=3.8000000000000003\n",
      "Loss : 15.120000000000005\n",
      "**********\n",
      "w=3.9000000000000004\n",
      "Loss : 16.84666666666667\n",
      "**********\n",
      "w=4.0\n",
      "Loss : 18.666666666666668\n",
      "**********\n"
     ]
    }
   ],
   "source": [
    "w_list = []\n",
    "mse_list = []\n",
    "for w in np.arange(0.0, 4.1, 0.1):\n",
    "    print(f\"w={w}\")\n",
    "    l_sum = 0.0\n",
    "    for x,y in zip(x_data, y_data):\n",
    "        l = loss(x,y)\n",
    "        l_sum += l\n",
    "    w_list.append(w)\n",
    "    mse_list.append(l_sum/3)\n",
    "    print(f\"Loss : {l_sum/3}\")\n",
    "    print(\"*\" * 10)\n"
   ]
  },
  {
   "cell_type": "code",
   "execution_count": 10,
   "metadata": {
    "colab": {
     "base_uri": "https://localhost:8080/",
     "height": 286
    },
    "colab_type": "code",
    "id": "sfSXix5ncys5",
    "outputId": "a5430b1a-0d94-4435-d258-2d0871c9faa8"
   },
   "outputs": [
    {
     "data": {
      "text/plain": [
       "[<matplotlib.lines.Line2D at 0x7f5844bc32e8>]"
      ]
     },
     "execution_count": 10,
     "metadata": {
      "tags": []
     },
     "output_type": "execute_result"
    },
    {
     "data": {
      "image/png": "[encoded data removed]",
      "text/plain": [
       "<Figure size 432x288 with 1 Axes>"
      ]
     },
     "metadata": {
      "tags": []
     },
     "output_type": "display_data"
    }
   ],
   "source": [
    "plt.plot(w_list, mse_list)"
   ]
  }
 ],
 "metadata": {
  "colab": {
   "collapsed_sections": [],
   "name": "PytorchClass.ipynb",
   "provenance": []
  },
  "kernelspec": {
   "display_name": "Python 3",
   "language": "python",
   "name": "python3"
  },
  "language_info": {
   "codemirror_mode": {
    "name": "ipython",
    "version": 3
   },
   "file_extension": ".py",
   "mimetype": "text/x-python",
   "name": "python",
   "nbconvert_exporter": "python",
   "pygments_lexer": "ipython3",
   "version": "3.7.1"
  }
 },
 "nbformat": 4,
 "nbformat_minor": 1
}
