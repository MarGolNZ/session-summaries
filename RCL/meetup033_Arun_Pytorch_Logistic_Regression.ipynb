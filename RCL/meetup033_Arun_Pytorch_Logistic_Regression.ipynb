{
 "cells": [
  {
   "cell_type": "code",
   "execution_count": 0,
   "metadata": {
    "colab": {},
    "colab_type": "code",
    "id": "9WEB7XhAdW_Y"
   },
   "outputs": [],
   "source": [
    "import torch"
   ]
  },
  {
   "cell_type": "code",
   "execution_count": 2,
   "metadata": {
    "colab": {
     "base_uri": "https://localhost:8080/",
     "height": 35
    },
    "colab_type": "code",
    "id": "Vl7sfxoIdiwN",
    "outputId": "e17f5c09-9635-46c3-c314-a71f9eac71e2"
   },
   "outputs": [
    {
     "data": {
      "text/plain": [
       "'1.3.0+cu100'"
      ]
     },
     "execution_count": 2,
     "metadata": {
      "tags": []
     },
     "output_type": "execute_result"
    }
   ],
   "source": [
    "torch.__version__"
   ]
  },
  {
   "cell_type": "code",
   "execution_count": 0,
   "metadata": {
    "colab": {},
    "colab_type": "code",
    "id": "eyWhFHUGdkUD"
   },
   "outputs": [],
   "source": [
    "x_data = torch.tensor([[2.0], [3.0],[4.0], [5.0], [8.0], [9.0], [11.0]])\n",
    "y_data = torch.tensor([[0.0],[0.0], [0.0], [0.0], [1.0], [1.0], [1.0] ])"
   ]
  },
  {
   "cell_type": "code",
   "execution_count": 0,
   "metadata": {
    "colab": {},
    "colab_type": "code",
    "id": "Z8hO85XhfRE1"
   },
   "outputs": [],
   "source": [
    "import torch.nn as nn\n",
    "import matplotlib.pyplot as plt"
   ]
  },
  {
   "cell_type": "code",
   "execution_count": 0,
   "metadata": {
    "colab": {},
    "colab_type": "code",
    "id": "xgSh28S7fGD0"
   },
   "outputs": [],
   "source": [
    "class LogisticRegression(nn.Module):\n",
    "    def __init__(self):\n",
    "        super().__init__()\n",
    "        self.l1 = nn.Linear(1,1)\n",
    "    def forward(self,x):\n",
    "        y_pred = torch.sigmoid(self.l1(x))\n",
    "        return y_pred"
   ]
  },
  {
   "cell_type": "code",
   "execution_count": 0,
   "metadata": {
    "colab": {},
    "colab_type": "code",
    "id": "ge5SQjbjgy8B"
   },
   "outputs": [],
   "source": [
    "#nn.Module??"
   ]
  },
  {
   "cell_type": "code",
   "execution_count": 0,
   "metadata": {
    "colab": {},
    "colab_type": "code",
    "id": "jvSAm85Hg4G_"
   },
   "outputs": [],
   "source": [
    "model = LogisticRegression()"
   ]
  },
  {
   "cell_type": "code",
   "execution_count": 25,
   "metadata": {
    "colab": {
     "base_uri": "https://localhost:8080/",
     "height": 70
    },
    "colab_type": "code",
    "id": "_UIn4sGrhMMW",
    "outputId": "8d045338-8b8c-44a5-e7b7-4a81782b8c2e"
   },
   "outputs": [
    {
     "data": {
      "text/plain": [
       "[Parameter containing:\n",
       " tensor([[-0.9236]], requires_grad=True), Parameter containing:\n",
       " tensor([0.3361], requires_grad=True)]"
      ]
     },
     "execution_count": 25,
     "metadata": {
      "tags": []
     },
     "output_type": "execute_result"
    }
   ],
   "source": [
    "list(model.parameters())"
   ]
  },
  {
   "cell_type": "code",
   "execution_count": 26,
   "metadata": {
    "colab": {
     "base_uri": "https://localhost:8080/",
     "height": 35
    },
    "colab_type": "code",
    "id": "PDLidp4qhTlY",
    "outputId": "75ea7391-0237-48ae-ff65-e60ed524b52e"
   },
   "outputs": [
    {
     "data": {
      "text/plain": [
       "tensor([[2.0968e-09]], grad_fn=<SigmoidBackward>)"
      ]
     },
     "execution_count": 26,
     "metadata": {
      "tags": []
     },
     "output_type": "execute_result"
    }
   ],
   "source": [
    "model.forward(torch.tensor([[22.0]]))"
   ]
  },
  {
   "cell_type": "markdown",
   "metadata": {
    "colab_type": "text",
    "id": "lRj-JIhfjJ6w"
   },
   "source": [
    "# Data and Model are ready now\n"
   ]
  },
  {
   "cell_type": "markdown",
   "metadata": {
    "colab_type": "text",
    "id": "dMn6_hf6jPGp"
   },
   "source": [
    "#### Next Steps\n",
    "#### Optimizer\n",
    "### Loss function \n",
    "### Training"
   ]
  },
  {
   "cell_type": "code",
   "execution_count": 0,
   "metadata": {
    "colab": {},
    "colab_type": "code",
    "id": "4Bo7-iVJhqR_"
   },
   "outputs": [],
   "source": [
    "optimizer = torch.optim.SGD(model.parameters(), lr = 0.01)"
   ]
  },
  {
   "cell_type": "code",
   "execution_count": 0,
   "metadata": {
    "colab": {},
    "colab_type": "code",
    "id": "CBSOKXFRju8n"
   },
   "outputs": [],
   "source": [
    "optimizer = torch.optim.SGD(model.parameters(), lr = 0.01)\n",
    "criterion = nn.BCELoss()"
   ]
  },
  {
   "cell_type": "code",
   "execution_count": 22,
   "metadata": {
    "colab": {
     "base_uri": "https://localhost:8080/",
     "height": 1000
    },
    "colab_type": "code",
    "id": "23Wsf4zkj8My",
    "outputId": "77428213-8a01-457e-b30b-5fb6bfe2f761"
   },
   "outputs": [
    {
     "name": "stdout",
     "output_type": "stream",
     "text": [
      "Epoch: 1\n",
      "Loss: 1.610506296157837\n",
      "Epoch: 2\n",
      "Loss: 1.5732535123825073\n",
      "Epoch: 3\n",
      "Loss: 1.5363138914108276\n",
      "Epoch: 4\n",
      "Loss: 1.4997003078460693\n",
      "Epoch: 5\n",
      "Loss: 1.463431477546692\n",
      "Epoch: 6\n",
      "Loss: 1.4275230169296265\n",
      "Epoch: 7\n",
      "Loss: 1.3919941186904907\n",
      "Epoch: 8\n",
      "Loss: 1.3568620681762695\n",
      "Epoch: 9\n",
      "Loss: 1.3221467733383179\n",
      "Epoch: 10\n",
      "Loss: 1.2878682613372803\n",
      "Epoch: 11\n",
      "Loss: 1.2540473937988281\n",
      "Epoch: 12\n",
      "Loss: 1.2207049131393433\n",
      "Epoch: 13\n",
      "Loss: 1.187864065170288\n",
      "Epoch: 14\n",
      "Loss: 1.155547022819519\n",
      "Epoch: 15\n",
      "Loss: 1.123778223991394\n",
      "Epoch: 16\n",
      "Loss: 1.0925817489624023\n",
      "Epoch: 17\n",
      "Loss: 1.06198251247406\n",
      "Epoch: 18\n",
      "Loss: 1.032006025314331\n",
      "Epoch: 19\n",
      "Loss: 1.0026789903640747\n",
      "Epoch: 20\n",
      "Loss: 0.9740274548530579\n",
      "Epoch: 21\n",
      "Loss: 0.9460787177085876\n",
      "Epoch: 22\n",
      "Loss: 0.9188593626022339\n",
      "Epoch: 23\n",
      "Loss: 0.8923969268798828\n",
      "Epoch: 24\n",
      "Loss: 0.8667182326316833\n",
      "Epoch: 25\n",
      "Loss: 0.8418501019477844\n",
      "Epoch: 26\n",
      "Loss: 0.8178184628486633\n",
      "Epoch: 27\n",
      "Loss: 0.794648289680481\n",
      "Epoch: 28\n",
      "Loss: 0.772363543510437\n",
      "Epoch: 29\n",
      "Loss: 0.7509864568710327\n",
      "Epoch: 30\n",
      "Loss: 0.7305370569229126\n",
      "Epoch: 31\n",
      "Loss: 0.711033046245575\n",
      "Epoch: 32\n",
      "Loss: 0.692488968372345\n",
      "Epoch: 33\n",
      "Loss: 0.67491614818573\n",
      "Epoch: 34\n",
      "Loss: 0.6583216786384583\n",
      "Epoch: 35\n",
      "Loss: 0.6427087187767029\n",
      "Epoch: 36\n",
      "Loss: 0.6280749440193176\n",
      "Epoch: 37\n",
      "Loss: 0.6144137978553772\n",
      "Epoch: 38\n",
      "Loss: 0.6017125844955444\n",
      "Epoch: 39\n",
      "Loss: 0.589953601360321\n",
      "Epoch: 40\n",
      "Loss: 0.579113781452179\n",
      "Epoch: 41\n",
      "Loss: 0.5691645741462708\n",
      "Epoch: 42\n",
      "Loss: 0.5600725412368774\n",
      "Epoch: 43\n",
      "Loss: 0.5518001914024353\n",
      "Epoch: 44\n",
      "Loss: 0.5443057417869568\n",
      "Epoch: 45\n",
      "Loss: 0.5375446677207947\n",
      "Epoch: 46\n",
      "Loss: 0.5314698815345764\n",
      "Epoch: 47\n",
      "Loss: 0.5260328650474548\n",
      "Epoch: 48\n",
      "Loss: 0.5211845636367798\n",
      "Epoch: 49\n",
      "Loss: 0.5168758630752563\n"
     ]
    }
   ],
   "source": [
    "loss_list = []\n",
    "for epoch in range(1, 50):\n",
    "    print(f\"Epoch: {epoch}\")\n",
    "    y_pred = model.forward(x_data)\n",
    "    loss = criterion(y_pred, y_data)\n",
    "    loss.backward()\n",
    "    print(f\"Loss: {loss.item()}\")\n",
    "    optimizer.step()\n",
    "    optimizer.zero_grad()\n",
    "    loss_list.append(loss.item())"
   ]
  },
  {
   "cell_type": "code",
   "execution_count": 23,
   "metadata": {
    "colab": {
     "base_uri": "https://localhost:8080/",
     "height": 35
    },
    "colab_type": "code",
    "id": "FNkLi0rekoZr",
    "outputId": "3eda5f9b-bac3-40f9-dbcb-64856c36a8d3"
   },
   "outputs": [
    {
     "data": {
      "text/plain": [
       "tensor([[0.9953]], grad_fn=<SigmoidBackward>)"
      ]
     },
     "execution_count": 23,
     "metadata": {
      "tags": []
     },
     "output_type": "execute_result"
    }
   ],
   "source": [
    "model.forward(torch.tensor([[22.0]]))"
   ]
  },
  {
   "cell_type": "code",
   "execution_count": 27,
   "metadata": {
    "colab": {
     "base_uri": "https://localhost:8080/",
     "height": 287
    },
    "colab_type": "code",
    "id": "9WufEloRk1_s",
    "outputId": "bd58d199-a8de-4a9b-fe47-6faffb6d92f6"
   },
   "outputs": [
    {
     "data": {
      "text/plain": [
       "[<matplotlib.lines.Line2D at 0x7f9d93bc0f60>]"
      ]
     },
     "execution_count": 27,
     "metadata": {
      "tags": []
     },
     "output_type": "execute_result"
    },
    {
     "data": {
      "image/png": "[encoded data removed]",
      "text/plain": [
       "<Figure size 432x288 with 1 Axes>"
      ]
     },
     "metadata": {
      "tags": []
     },
     "output_type": "display_data"
    }
   ],
   "source": [
    "plt.plot(loss_list)"
   ]
  },
  {
   "cell_type": "code",
   "execution_count": 28,
   "metadata": {
    "colab": {
     "base_uri": "https://localhost:8080/",
     "height": 35
    },
    "colab_type": "code",
    "id": "R6vn_DuAmkdF",
    "outputId": "564e471d-4039-44e0-d409-9a974ce05d05"
   },
   "outputs": [
    {
     "data": {
      "text/plain": [
       "['.config', 'diabetes.csv.gz', 'sample_data']"
      ]
     },
     "execution_count": 28,
     "metadata": {
      "tags": []
     },
     "output_type": "execute_result"
    }
   ],
   "source": [
    "import os\n",
    "os.listdir()"
   ]
  },
  {
   "cell_type": "code",
   "execution_count": 0,
   "metadata": {
    "colab": {},
    "colab_type": "code",
    "id": "qmO0xV-Im_Yx"
   },
   "outputs": [],
   "source": [
    "import pandas as pd\n",
    "import numpy as np"
   ]
  },
  {
   "cell_type": "code",
   "execution_count": 0,
   "metadata": {
    "colab": {},
    "colab_type": "code",
    "id": "1gj_EwtvrK8T"
   },
   "outputs": [],
   "source": [
    "db = pd.read_csv('diabetes.csv.gz',compression='gzip', header = None, dtype = np.float32)"
   ]
  },
  {
   "cell_type": "code",
   "execution_count": 39,
   "metadata": {
    "colab": {
     "base_uri": "https://localhost:8080/",
     "height": 223
    },
    "colab_type": "code",
    "id": "EXgJy6EvrW6n",
    "outputId": "eb6318ec-5c98-4a6a-cf1d-5368b39a5b53"
   },
   "outputs": [
    {
     "data": {
      "text/html": [
       "<div>\n",
       "<style scoped>\n",
       "    .dataframe tbody tr th:only-of-type {\n",
       "        vertical-align: middle;\n",
       "    }\n",
       "\n",
       "    .dataframe tbody tr th {\n",
       "        vertical-align: top;\n",
       "    }\n",
       "\n",
       "    .dataframe thead th {\n",
       "        text-align: right;\n",
       "    }\n",
       "</style>\n",
       "<table border=\"1\" class=\"dataframe\">\n",
       "  <thead>\n",
       "    <tr style=\"text-align: right;\">\n",
       "      <th></th>\n",
       "      <th>0</th>\n",
       "      <th>1</th>\n",
       "      <th>2</th>\n",
       "      <th>3</th>\n",
       "      <th>4</th>\n",
       "      <th>5</th>\n",
       "      <th>6</th>\n",
       "      <th>7</th>\n",
       "      <th>8</th>\n",
       "    </tr>\n",
       "  </thead>\n",
       "  <tbody>\n",
       "    <tr>\n",
       "      <th>0</th>\n",
       "      <td>-0.294118</td>\n",
       "      <td>0.487437</td>\n",
       "      <td>0.180328</td>\n",
       "      <td>-0.292929</td>\n",
       "      <td>0.000000</td>\n",
       "      <td>0.001490</td>\n",
       "      <td>-0.531170</td>\n",
       "      <td>-0.033333</td>\n",
       "      <td>0.0</td>\n",
       "    </tr>\n",
       "    <tr>\n",
       "      <th>1</th>\n",
       "      <td>-0.882353</td>\n",
       "      <td>-0.145729</td>\n",
       "      <td>0.081967</td>\n",
       "      <td>-0.414141</td>\n",
       "      <td>0.000000</td>\n",
       "      <td>-0.207153</td>\n",
       "      <td>-0.766866</td>\n",
       "      <td>-0.666667</td>\n",
       "      <td>1.0</td>\n",
       "    </tr>\n",
       "    <tr>\n",
       "      <th>2</th>\n",
       "      <td>-0.058823</td>\n",
       "      <td>0.839196</td>\n",
       "      <td>0.049180</td>\n",
       "      <td>0.000000</td>\n",
       "      <td>0.000000</td>\n",
       "      <td>-0.305514</td>\n",
       "      <td>-0.492741</td>\n",
       "      <td>-0.633333</td>\n",
       "      <td>0.0</td>\n",
       "    </tr>\n",
       "    <tr>\n",
       "      <th>3</th>\n",
       "      <td>-0.882353</td>\n",
       "      <td>-0.105528</td>\n",
       "      <td>0.081967</td>\n",
       "      <td>-0.535354</td>\n",
       "      <td>-0.777778</td>\n",
       "      <td>-0.162444</td>\n",
       "      <td>-0.923997</td>\n",
       "      <td>0.000000</td>\n",
       "      <td>1.0</td>\n",
       "    </tr>\n",
       "    <tr>\n",
       "      <th>4</th>\n",
       "      <td>0.000000</td>\n",
       "      <td>0.376884</td>\n",
       "      <td>-0.344262</td>\n",
       "      <td>-0.292929</td>\n",
       "      <td>-0.602837</td>\n",
       "      <td>0.284650</td>\n",
       "      <td>0.887276</td>\n",
       "      <td>-0.600000</td>\n",
       "      <td>0.0</td>\n",
       "    </tr>\n",
       "  </tbody>\n",
       "</table>\n",
       "</div>"
      ],
      "text/plain": [
       "          0         1         2         3  ...         5         6         7    8\n",
       "0 -0.294118  0.487437  0.180328 -0.292929  ...  0.001490 -0.531170 -0.033333  0.0\n",
       "1 -0.882353 -0.145729  0.081967 -0.414141  ... -0.207153 -0.766866 -0.666667  1.0\n",
       "2 -0.058823  0.839196  0.049180  0.000000  ... -0.305514 -0.492741 -0.633333  0.0\n",
       "3 -0.882353 -0.105528  0.081967 -0.535354  ... -0.162444 -0.923997  0.000000  1.0\n",
       "4  0.000000  0.376884 -0.344262 -0.292929  ...  0.284650  0.887276 -0.600000  0.0\n",
       "\n",
       "[5 rows x 9 columns]"
      ]
     },
     "execution_count": 39,
     "metadata": {
      "tags": []
     },
     "output_type": "execute_result"
    }
   ],
   "source": [
    "db.head()"
   ]
  },
  {
   "cell_type": "code",
   "execution_count": 0,
   "metadata": {
    "colab": {},
    "colab_type": "code",
    "id": "6HvjUycirYD_"
   },
   "outputs": [],
   "source": [
    "X = db.iloc[:, :-1].values\n",
    "y = db.iloc[:,-1].values"
   ]
  },
  {
   "cell_type": "code",
   "execution_count": 0,
   "metadata": {
    "colab": {},
    "colab_type": "code",
    "id": "sHhOfzRts0An"
   },
   "outputs": [],
   "source": [
    "X = torch.from_numpy(X)\n",
    "y = torch.from_numpy(y)"
   ]
  },
  {
   "cell_type": "code",
   "execution_count": 0,
   "metadata": {
    "colab": {},
    "colab_type": "code",
    "id": "23VvYdVftBxp"
   },
   "outputs": [],
   "source": [
    "class DeepModel(nn.Module):\n",
    "    def __init__(self):\n",
    "        super().__init__()\n",
    "        self.l1 = nn.Linear(8,20)\n",
    "        self.l2 = nn.Linear(20,30)\n",
    "        self.l3 = nn.Linear(30,1)\n",
    "    def forward(self,x):\n",
    "        x = torch.relu(self.l1(x))\n",
    "        x = torch.relu(self.l2(x))\n",
    "        y_pred = torch.sigmoid(self.l3(x))\n",
    "        return y_pred\n"
   ]
  },
  {
   "cell_type": "code",
   "execution_count": 0,
   "metadata": {
    "colab": {},
    "colab_type": "code",
    "id": "pWDNGPI_uOky"
   },
   "outputs": [],
   "source": [
    "model = DeepModel()\n"
   ]
  },
  {
   "cell_type": "code",
   "execution_count": 0,
   "metadata": {
    "colab": {},
    "colab_type": "code",
    "id": "X_MJurcswiXg"
   },
   "outputs": [],
   "source": [
    "optimizer = torch.optim.Adam(model.parameters(), lr = 0.01)\n",
    "criterion = nn.BCELoss()"
   ]
  },
  {
   "cell_type": "code",
   "execution_count": 66,
   "metadata": {
    "colab": {
     "base_uri": "https://localhost:8080/",
     "height": 105
    },
    "colab_type": "code",
    "id": "7ZzMYjPquWZw",
    "outputId": "c4e00b4b-e363-4175-a713-59856228ec4c"
   },
   "outputs": [
    {
     "data": {
      "text/plain": [
       "DeepModel(\n",
       "  (l1): Linear(in_features=8, out_features=20, bias=True)\n",
       "  (l2): Linear(in_features=20, out_features=30, bias=True)\n",
       "  (l3): Linear(in_features=30, out_features=1, bias=True)\n",
       ")"
      ]
     },
     "execution_count": 66,
     "metadata": {
      "tags": []
     },
     "output_type": "execute_result"
    }
   ],
   "source": [
    "model"
   ]
  },
  {
   "cell_type": "code",
   "execution_count": 67,
   "metadata": {
    "colab": {
     "base_uri": "https://localhost:8080/",
     "height": 1000
    },
    "colab_type": "code",
    "id": "cF3cLhupuX1Y",
    "outputId": "86eecd05-faaf-4301-cab5-cce8776526b3"
   },
   "outputs": [
    {
     "name": "stdout",
     "output_type": "stream",
     "text": [
      "Epoch: 1\n",
      "Loss: 0.7117507457733154\n",
      "Epoch: 2\n",
      "Loss: 0.7010685205459595\n",
      "Epoch: 3\n",
      "Loss: 0.6913071870803833\n",
      "Epoch: 4\n",
      "Loss: 0.6816766262054443\n",
      "Epoch: 5\n",
      "Loss: 0.671356737613678\n",
      "Epoch: 6\n",
      "Loss: 0.660825252532959\n",
      "Epoch: 7\n",
      "Loss: 0.6499667763710022\n",
      "Epoch: 8\n",
      "Loss: 0.638731837272644\n",
      "Epoch: 9\n",
      "Loss: 0.6272495985031128\n",
      "Epoch: 10\n",
      "Loss: 0.6159362196922302\n",
      "Epoch: 11\n",
      "Loss: 0.6052073240280151\n",
      "Epoch: 12\n",
      "Loss: 0.5952610969543457\n",
      "Epoch: 13\n",
      "Loss: 0.5859678387641907\n",
      "Epoch: 14\n",
      "Loss: 0.5765304565429688\n",
      "Epoch: 15\n",
      "Loss: 0.5658605098724365\n",
      "Epoch: 16\n",
      "Loss: 0.5534254908561707\n",
      "Epoch: 17\n",
      "Loss: 0.5399613976478577\n",
      "Epoch: 18\n",
      "Loss: 0.5271031260490417\n",
      "Epoch: 19\n",
      "Loss: 0.5162779092788696\n",
      "Epoch: 20\n",
      "Loss: 0.5064313411712646\n",
      "Epoch: 21\n",
      "Loss: 0.49572187662124634\n",
      "Epoch: 22\n",
      "Loss: 0.48502808809280396\n",
      "Epoch: 23\n",
      "Loss: 0.477120578289032\n",
      "Epoch: 24\n",
      "Loss: 0.47251009941101074\n",
      "Epoch: 25\n",
      "Loss: 0.46842071413993835\n",
      "Epoch: 26\n",
      "Loss: 0.46477651596069336\n",
      "Epoch: 27\n",
      "Loss: 0.46386051177978516\n",
      "Epoch: 28\n",
      "Loss: 0.4644220173358917\n",
      "Epoch: 29\n",
      "Loss: 0.4637484848499298\n",
      "Epoch: 30\n",
      "Loss: 0.4636300504207611\n",
      "Epoch: 31\n",
      "Loss: 0.46401599049568176\n",
      "Epoch: 32\n",
      "Loss: 0.4630337357521057\n",
      "Epoch: 33\n",
      "Loss: 0.46120402216911316\n",
      "Epoch: 34\n",
      "Loss: 0.4595262110233307\n",
      "Epoch: 35\n",
      "Loss: 0.4573267698287964\n",
      "Epoch: 36\n",
      "Loss: 0.45504194498062134\n",
      "Epoch: 37\n",
      "Loss: 0.4531359076499939\n",
      "Epoch: 38\n",
      "Loss: 0.45116379857063293\n",
      "Epoch: 39\n",
      "Loss: 0.4492303431034088\n",
      "Epoch: 40\n",
      "Loss: 0.44764071702957153\n",
      "Epoch: 41\n",
      "Loss: 0.4461854100227356\n",
      "Epoch: 42\n",
      "Loss: 0.44483354687690735\n",
      "Epoch: 43\n",
      "Loss: 0.44393035769462585\n",
      "Epoch: 44\n",
      "Loss: 0.4432682693004608\n",
      "Epoch: 45\n",
      "Loss: 0.44247668981552124\n",
      "Epoch: 46\n",
      "Loss: 0.44172221422195435\n",
      "Epoch: 47\n",
      "Loss: 0.4410035312175751\n",
      "Epoch: 48\n",
      "Loss: 0.44017866253852844\n",
      "Epoch: 49\n",
      "Loss: 0.4392646849155426\n"
     ]
    },
    {
     "name": "stderr",
     "output_type": "stream",
     "text": [
      "/usr/local/lib/python3.6/dist-packages/torch/nn/modules/loss.py:498: UserWarning: Using a target size (torch.Size([759])) that is different to the input size (torch.Size([759, 1])) is deprecated. Please ensure they have the same size.\n",
      "  return F.binary_cross_entropy(input, target, weight=self.weight, reduction=self.reduction)\n"
     ]
    }
   ],
   "source": [
    "loss_list = []\n",
    "for epoch in range(1, 50):\n",
    "    print(f\"Epoch: {epoch}\")\n",
    "    y_pred = model.forward(X)\n",
    "    loss = criterion(y_pred, y)\n",
    "    loss.backward()\n",
    "    print(f\"Loss: {loss.item()}\")\n",
    "    optimizer.step()\n",
    "    optimizer.zero_grad()\n",
    "    loss_list.append(loss.item())"
   ]
  }
 ],
 "metadata": {
  "colab": {
   "collapsed_sections": [],
   "name": "Pytorch Logistic Regression.ipynb",
   "provenance": []
  },
  "kernelspec": {
   "display_name": "Python 3",
   "language": "python",
   "name": "python3"
  },
  "language_info": {
   "codemirror_mode": {
    "name": "ipython",
    "version": 3
   },
   "file_extension": ".py",
   "mimetype": "text/x-python",
   "name": "python",
   "nbconvert_exporter": "python",
   "pygments_lexer": "ipython3",
   "version": "3.7.1"
  }
 },
 "nbformat": 4,
 "nbformat_minor": 1
}
