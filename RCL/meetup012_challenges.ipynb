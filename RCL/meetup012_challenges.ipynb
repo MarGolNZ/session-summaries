{
 "cells": [
  {
   "cell_type": "markdown",
   "metadata": {},
   "source": [
    "### meetup0012\n",
    "<br>\n",
    "Challenges for this week to build a flask web application:\n",
    "<br>\n",
    "<br>\n",
    "First, clone the github repo https://github.com/timcu/bpss-prime-ministerChallenge to complete the following challenges:\n",
    "<br>\n",
    "\n",
    "    1: Add a page for view_prime_ministers\n",
    "\n",
    "       a. Create a template called list_minister.html which currently shows <h2>People who have held this ministry</h2>\n",
    "\n",
    "       b. Create a function view_prime_ministers() which calls render_template(“list_minister.html”) with suitable title\n",
    "\n",
    "       c. Add hyperlink to nav barChallenge \n",
    "   \n",
    "    \n",
    "    2: List all people in database in list_person.html\n",
    "\n",
    "       a. Add sql to prime_minister.view_persons() function and pass results to render_template\n",
    "\n",
    "       b. Create a table in list_person.html with a loop to repeat the rowsChallenge \n",
    "    \n",
    "    \n",
    "    3: Show list of recreations in view_person.html\n",
    "\n",
    "       a. tbl_recreation has a foreign key ‘id_person’ which joins to tbl_person ‘id’\n",
    "\n",
    "       b. tbl_recreation has a varchar field ‘vc_recreation’ which contains the name of the recreation\n",
    "\n",
    "       c. Add sql in prime_minister.view_person(id_person) to find the list of recreations\n",
    "\n",
    "       d. Pass the list of recreations to render_template(‘view_person.html’)\n",
    "\n",
    "       e. Modify view_person.html to list any recreations\n"
   ]
  }
 ],
 "metadata": {
  "kernelspec": {
   "display_name": "Python 3",
   "language": "python",
   "name": "python3"
  },
  "language_info": {
   "codemirror_mode": {
    "name": "ipython",
    "version": 3
   },
   "file_extension": ".py",
   "mimetype": "text/x-python",
   "name": "python",
   "nbconvert_exporter": "python",
   "pygments_lexer": "ipython3",
   "version": "3.7.1"
  }
 },
 "nbformat": 4,
 "nbformat_minor": 2
}
