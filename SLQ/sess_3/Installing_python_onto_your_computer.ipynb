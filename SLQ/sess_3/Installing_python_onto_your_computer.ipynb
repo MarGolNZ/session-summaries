{
 "cells": [
  {
   "cell_type": "markdown",
   "metadata": {},
   "source": [
    "First, go to https://www.python.org/downloads/ and download the latest version to install on your computer.\n",
    "\n",
    "Then you will need to choose an IDE (Integrated Development Environment).\n",
    "\n",
    "There is a summary of some of the more popular IDEs and what they were designed for at https://wiki.python.org/moin/IntegratedDevelopmentEnvironments\n",
    "\n",
    "\n",
    "Personally, I was first introduced to python via Spyder because I am working with scientists.\n",
    "I can recommend it as it has many great capabilities such as displaying beautiful visualisations, although it does contain many buttons and features that may stun a beginner. \n",
    "\n",
    "Python.org recommends Thonny as it has a very basic user interface and can therefore be more user-friendly.\n",
    "\n",
    "However, as your python skills grow or your needs change, adapt accordingly.\n",
    "\n",
    "In the Beginners' Python Support Sessions we have decided to all work on the same IDE to make following instructions easier. \n",
    "We will be using [PyCharm edu](https://www.jetbrains.com/pycharm-edu/download/).\n"
   ]
  }
 ],
 "metadata": {
  "kernelspec": {
   "display_name": "Python 3",
   "language": "python",
   "name": "python3"
  },
  "language_info": {
   "codemirror_mode": {
    "name": "ipython",
    "version": 3
   },
   "file_extension": ".py",
   "mimetype": "text/x-python",
   "name": "python",
   "nbconvert_exporter": "python",
   "pygments_lexer": "ipython3",
   "version": "3.7.1"
  }
 },
 "nbformat": 4,
 "nbformat_minor": 2
}
